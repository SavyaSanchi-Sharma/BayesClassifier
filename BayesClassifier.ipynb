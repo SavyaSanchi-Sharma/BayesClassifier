{
 "cells": [
  {
   "cell_type": "code",
   "execution_count": 5,
   "metadata": {},
   "outputs": [],
   "source": [
    "import numpy as np"
   ]
  },
  {
   "cell_type": "code",
   "execution_count": null,
   "metadata": {},
   "outputs": [],
   "source": [
    "\"\"\"x1 is the vector for multiple features\"\"\"\n",
    "\n",
    "def covar_matrix(df):\n",
    "    mean = np.mean(df, axis=0)  \n",
    "    centered = df - mean  \n",
    "    cov_matrix = np.cov(centered, rowvar=False)  \n",
    "    return cov_matrix\n",
    "\n",
    "def mahalanobis_dist(x1, mean, df):\n",
    "    assert x1.shape == mean.shape, \"x1 and mean must have the same shape\"\n",
    "    mean_diff = x1 - mean  \n",
    "    cov_matrix = covar_matrix(df)\n",
    "    cov_matrix_inv = np.linalg.inv(cov_matrix)  \n",
    "    distance = np.sqrt(np.dot(np.dot(mean_diff.T, cov_matrix_inv), mean_diff))\n",
    "    return distance"
   ]
  },
  {
   "cell_type": "code",
   "execution_count": 7,
   "metadata": {},
   "outputs": [],
   "source": [
    "class bc:\n",
    "    def __init__(self, df, class_column,features):\n",
    "        self.df = df\n",
    "        self.features=features\n",
    "        self.class_column=class_column\n",
    "\n",
    "    def pdf(self, class_data,x1):\n",
    "      \n",
    "        mean = np.mean(class_data, axis=1)\n",
    "        md = mahalanobis_dist(x1, mean, self.df)\n",
    "        exponential = (-0.5) * md\n",
    "        den = (2 * np.pi) * (np.linalg.det(covar_matrix(self.df)))**(1/2)\n",
    "        return np.e ** exponential / den\n",
    "\n",
    "    def prior(self):\n",
    "        classes=self.df[self.class_column].value_counts()\n",
    "        total=len(self.df)\n",
    "        return classes/total\n",
    "\n",
    "    def post(self,x1):\n",
    "       priors=self.prior()\n",
    "       posterior={}\n",
    "       x1=self.df[self.features]\n",
    "       for classes in priors.index:\n",
    "           classData=self.df.loc[self.df[self.class_column]==classes]\n",
    "           likly=self.pdf(x1,classData)\n",
    "           posterior[classes]=likly*self.prior()\n",
    "\n",
    "       return posterior\n",
    "   \n",
    " \n",
    "    def predict(self,x):\n",
    "        posterior=self.post(x)\n",
    "        predicted_class = max(posterior, key=posterior.get)\n",
    "        return predicted_class\n",
    "    \n",
    "        \n",
    "     \n",
    "               \n",
    "        "
   ]
  },
  {
   "cell_type": "code",
   "execution_count": null,
   "metadata": {},
   "outputs": [],
   "source": []
  }
 ],
 "metadata": {
  "kernelspec": {
   "display_name": "base",
   "language": "python",
   "name": "python3"
  },
  "language_info": {
   "codemirror_mode": {
    "name": "ipython",
    "version": 3
   },
   "file_extension": ".py",
   "mimetype": "text/x-python",
   "name": "python",
   "nbconvert_exporter": "python",
   "pygments_lexer": "ipython3",
   "version": "3.12.7"
  }
 },
 "nbformat": 4,
 "nbformat_minor": 2
}
