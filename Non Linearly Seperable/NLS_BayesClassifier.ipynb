{
 "cells": [
  {
   "cell_type": "code",
   "execution_count": 1,
   "metadata": {},
   "outputs": [],
   "source": [
    "import pandas as pd\n",
    "import BayesClassifier as bc\n",
    "import accuracy as ac\n",
    "from sklearn.preprocessing import MinMaxScaler"
   ]
  },
  {
   "cell_type": "code",
   "execution_count": 2,
   "metadata": {},
   "outputs": [],
   "source": [
    "scalar=MinMaxScaler()"
   ]
  },
  {
   "cell_type": "code",
   "execution_count": 3,
   "metadata": {},
   "outputs": [],
   "source": [
    "train=pd.read_csv('train.csv')\n",
    "test=pd.read_csv('test.csv')"
   ]
  },
  {
   "cell_type": "code",
   "execution_count": 4,
   "metadata": {},
   "outputs": [],
   "source": [
    "y_true=test['Class']\n"
   ]
  },
  {
   "cell_type": "code",
   "execution_count": 5,
   "metadata": {},
   "outputs": [],
   "source": [
    "classifier=bc.bc(train,'Class',['x1','x2'])\n",
    "y_hat=classifier.predict(test[['x1','x2']])"
   ]
  },
  {
   "cell_type": "code",
   "execution_count": 6,
   "metadata": {},
   "outputs": [
    {
     "data": {
      "text/plain": [
       "array([[  0,   0,   0,   0],\n",
       "       [  0,  61,  25,   0],\n",
       "       [  0,   0, 138,  21],\n",
       "       [  0,   0,   1, 294]])"
      ]
     },
     "execution_count": 6,
     "metadata": {},
     "output_type": "execute_result"
    }
   ],
   "source": [
    "acc=ac.accuracy(y_true,y_hat)\n",
    "acc.confusion_matrix()"
   ]
  },
  {
   "cell_type": "code",
   "execution_count": 7,
   "metadata": {},
   "outputs": [
    {
     "data": {
      "text/plain": [
       "91.2962962962963"
      ]
     },
     "execution_count": 7,
     "metadata": {},
     "output_type": "execute_result"
    }
   ],
   "source": [
    "acc.accu_percent()"
   ]
  },
  {
   "cell_type": "code",
   "execution_count": 8,
   "metadata": {},
   "outputs": [
    {
     "name": "stdout",
     "output_type": "stream",
     "text": [
      "Precision for class 1 is\n",
      "1.0\n",
      "Precision for class 2 is\n",
      "0.8414634146341463\n",
      "Precision for class 3 is\n",
      "0.9333333333333333\n"
     ]
    },
    {
     "data": {
      "text/plain": [
       "[1.0, 0.8414634146341463, 0.9333333333333333]"
      ]
     },
     "execution_count": 8,
     "metadata": {},
     "output_type": "execute_result"
    }
   ],
   "source": [
    "acc.precision()"
   ]
  },
  {
   "cell_type": "code",
   "execution_count": 9,
   "metadata": {},
   "outputs": [
    {
     "name": "stdout",
     "output_type": "stream",
     "text": [
      "Recall for class1 is \n",
      "0.7093023255813954\n",
      "Recall for class2 is \n",
      "0.8679245283018868\n",
      "Recall for class3 is \n",
      "0.9966101694915255\n"
     ]
    },
    {
     "data": {
      "text/plain": [
       "[0.7093023255813954, 0.8679245283018868, 0.9966101694915255]"
      ]
     },
     "execution_count": 9,
     "metadata": {},
     "output_type": "execute_result"
    }
   ],
   "source": [
    "acc.recall()"
   ]
  },
  {
   "cell_type": "code",
   "execution_count": 10,
   "metadata": {},
   "outputs": [
    {
     "name": "stdout",
     "output_type": "stream",
     "text": [
      "Precision for class 1 is\n",
      "1.0\n",
      "Precision for class 2 is\n",
      "0.8414634146341463\n",
      "Precision for class 3 is\n",
      "0.9333333333333333\n",
      "Recall for class1 is \n",
      "0.7093023255813954\n",
      "Recall for class2 is \n",
      "0.8679245283018868\n",
      "Recall for class3 is \n",
      "0.9966101694915255\n",
      "F-score for class 1 is 0.8299319727891157\n",
      "F-score for class 2 is 0.8544891640866873\n",
      "F-score for class 3 is 0.9639344262295083\n"
     ]
    },
    {
     "data": {
      "text/plain": [
       "[0.8299319727891157, 0.8544891640866873, 0.9639344262295083]"
      ]
     },
     "execution_count": 10,
     "metadata": {},
     "output_type": "execute_result"
    }
   ],
   "source": [
    "acc.f_score()"
   ]
  }
 ],
 "metadata": {
  "kernelspec": {
   "display_name": "base",
   "language": "python",
   "name": "python3"
  },
  "language_info": {
   "codemirror_mode": {
    "name": "ipython",
    "version": 3
   },
   "file_extension": ".py",
   "mimetype": "text/x-python",
   "name": "python",
   "nbconvert_exporter": "python",
   "pygments_lexer": "ipython3",
   "version": "3.12.7"
  }
 },
 "nbformat": 4,
 "nbformat_minor": 2
}
